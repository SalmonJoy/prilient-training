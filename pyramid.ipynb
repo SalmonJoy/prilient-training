{
 "cells": [
  {
   "cell_type": "code",
   "execution_count": 1,
   "metadata": {},
   "outputs": [],
   "source": [
    "import cv2\n",
    "import numpy as np"
   ]
  },
  {
   "cell_type": "code",
   "execution_count": 6,
   "metadata": {},
   "outputs": [],
   "source": [
    "img = cv2.imread(\"images\\lena.jpg\")\n",
    "cv2.imshow(\"Image\",img)\n",
    "\n",
    "low = cv2.pyrDown(img)\n",
    "cv2.imshow(\"Low\",low)\n",
    "\n",
    "high = cv2.pyrUp(low)\n",
    "cv2.imshow(\"High\",high)\n",
    "\n",
    "lp = cv2.subtract(img,high)\n",
    "cv2.imshow(\"Laplacian\",lp)\n",
    "\n",
    "lp_up = cv2.pyrUp(lp)\n",
    "cv2.imshow(\"Laplacian UP\",lp_up)\n",
    "\n",
    "cv2.waitKey(0)\n",
    "cv2.destroyAllWindows()"
   ]
  },
  {
   "cell_type": "code",
   "execution_count": null,
   "metadata": {},
   "outputs": [],
   "source": [
    "# Image -> pyrDown -> pyrUP -> Image - pyrUP  = Laplacian pyramid"
   ]
  },
  {
   "cell_type": "code",
   "execution_count": 9,
   "metadata": {},
   "outputs": [],
   "source": [
    "img = cv2.imread(\"images\\lena.jpg\")\n",
    "# cv2.imshow(\"Image\",img)\n",
    "\n",
    "low = img.copy()\n",
    "gp = [low]\n",
    "for i in range(6):\n",
    "    low = cv2.pyrDown(low)\n",
    "    gp.append(low)\n",
    "    \n",
    "for i in range(7):\n",
    "    cv2.imshow(str(i),gp[i])\n",
    "\n",
    "cv2.waitKey(0)\n",
    "cv2.destroyAllWindows()"
   ]
  },
  {
   "cell_type": "code",
   "execution_count": null,
   "metadata": {},
   "outputs": [],
   "source": []
  }
 ],
 "metadata": {
  "kernelspec": {
   "display_name": "Python 3",
   "language": "python",
   "name": "python3"
  },
  "language_info": {
   "codemirror_mode": {
    "name": "ipython",
    "version": 3
   },
   "file_extension": ".py",
   "mimetype": "text/x-python",
   "name": "python",
   "nbconvert_exporter": "python",
   "pygments_lexer": "ipython3",
   "version": "3.10.4"
  }
 },
 "nbformat": 4,
 "nbformat_minor": 2
}
