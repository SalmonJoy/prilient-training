{
 "cells": [
  {
   "cell_type": "code",
   "execution_count": 11,
   "metadata": {},
   "outputs": [],
   "source": [
    "import cv2\n",
    "import numpy as np"
   ]
  },
  {
   "cell_type": "code",
   "execution_count": 33,
   "metadata": {},
   "outputs": [],
   "source": [
    "img1 = cv2.imread(\"images/opencv-logo.png\")\n",
    "img1 = cv2.resize(img1,(500,500))\n",
    "\n",
    "img2 = cv2.imread(\"images\\messi5.jpg\")\n",
    "img2 = cv2.resize(img2,(500,500))\n",
    "\n",
    "# cv2.imshow(\"Image1\",img1)\n",
    "# cv2.imshow(\"Image2\",img2)\n",
    "\n",
    "new_image = cv2.addWeighted(img1,0.2,img2,0.8,0)\n",
    "cv2.imshow(\"New_Image\",new_image)\n",
    "\n",
    "\n",
    "cv2.waitKey(0)\n",
    "cv2.destroyAllWindows()"
   ]
  },
  {
   "cell_type": "code",
   "execution_count": null,
   "metadata": {},
   "outputs": [],
   "source": []
  }
 ],
 "metadata": {
  "kernelspec": {
   "display_name": "Python 3",
   "language": "python",
   "name": "python3"
  },
  "language_info": {
   "codemirror_mode": {
    "name": "ipython",
    "version": 3
   },
   "file_extension": ".py",
   "mimetype": "text/x-python",
   "name": "python",
   "nbconvert_exporter": "python",
   "pygments_lexer": "ipython3",
   "version": "3.10.4"
  }
 },
 "nbformat": 4,
 "nbformat_minor": 2
}
