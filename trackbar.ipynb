{
 "cells": [
  {
   "cell_type": "code",
   "execution_count": 1,
   "metadata": {},
   "outputs": [],
   "source": [
    "import cv2\n",
    "import numpy as np"
   ]
  },
  {
   "cell_type": "code",
   "execution_count": 4,
   "metadata": {},
   "outputs": [],
   "source": [
    "# img = np.zeros((600,600,3),np.uint8)\n",
    "img =cv2.imread(\"images\\lena.jpg\")\n",
    "cv2.imshow(\"Image\",img)\n",
    "\n",
    "def abc(x):\n",
    "    pass\n",
    "\n",
    "cv2.createTrackbar(\"blue\",\"Image\",0,255,abc)\n",
    "cv2.createTrackbar(\"green\",\"Image\",0,255,abc)\n",
    "cv2.createTrackbar(\"red\",\"Image\",0,255,abc)\n",
    "\n",
    "while(1):\n",
    "    cv2.imshow(\"Image\",img)\n",
    "\n",
    "    blue = cv2.getTrackbarPos(\"blue\",\"Image\")\n",
    "    green = cv2.getTrackbarPos(\"green\",\"Image\")\n",
    "    red = cv2.getTrackbarPos(\"red\",\"Image\")\n",
    "\n",
    "    img[:] = [blue,green,red]\n",
    "\n",
    "    btn_click = cv2.waitKey(1) & 0xFF\n",
    "    if btn_click == 27:\n",
    "        break\n",
    "\n",
    "cv2.destroyAllWindows()"
   ]
  },
  {
   "cell_type": "code",
   "execution_count": 6,
   "metadata": {},
   "outputs": [],
   "source": [
    "img =cv2.imread(\"images\\lena.jpg\")\n",
    "cv2.imshow(\"Image\",img)\n",
    "\n",
    "def abc(x):\n",
    "    pass\n",
    "\n",
    "cv2.createTrackbar(\"bw/colour\",\"Image\",0,1,abc)\n",
    "\n",
    "\n",
    "while(1):\n",
    "    status = cv2.getTrackbarPos(\"bw/colour\",\"Image\")\n",
    "    \n",
    "    if status == 1:\n",
    "        cv2.imshow(\"Image\",img)\n",
    "    else:\n",
    "        bw_img = cv2.cvtColor(img,cv2.COLOR_BGR2GRAY)\n",
    "        cv2.imshow(\"Image\",bw_img)\n",
    "\n",
    "    btn_click = cv2.waitKey(1) & 0xFF\n",
    "    if btn_click == 27:\n",
    "        break\n",
    "\n",
    "cv2.destroyAllWindows()"
   ]
  },
  {
   "cell_type": "code",
   "execution_count": 6,
   "metadata": {},
   "outputs": [],
   "source": [
    "img =cv2.imread(\"images\\lena.jpg\")\n",
    "cv2.imshow(\"Image\",img)\n",
    "\n",
    "def abc(x):\n",
    "    pass\n",
    "\n",
    "cv2.createTrackbar(\"size\",\"Image\",2,100,abc)\n",
    "\n",
    "\n",
    "while(1):\n",
    "    temp = img.copy()\n",
    "    size = cv2.getTrackbarPos(\"size\",\"Image\")\n",
    "    cv2.circle(temp,(img.shape[1]//2,img.shape[1]//2),size,(255,0,0),4)\n",
    "    cv2.imshow(\"Image\",temp)\n",
    "    \n",
    "    \n",
    "\n",
    "    btn_click = cv2.waitKey(1) & 0xFF\n",
    "    if btn_click == 27:\n",
    "        break\n",
    "\n",
    "cv2.destroyAllWindows()"
   ]
  },
  {
   "cell_type": "code",
   "execution_count": null,
   "metadata": {},
   "outputs": [],
   "source": []
  }
 ],
 "metadata": {
  "kernelspec": {
   "display_name": "Python 3",
   "language": "python",
   "name": "python3"
  },
  "language_info": {
   "codemirror_mode": {
    "name": "ipython",
    "version": 3
   },
   "file_extension": ".py",
   "mimetype": "text/x-python",
   "name": "python",
   "nbconvert_exporter": "python",
   "pygments_lexer": "ipython3",
   "version": "3.10.4"
  }
 },
 "nbformat": 4,
 "nbformat_minor": 2
}
