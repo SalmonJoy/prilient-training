{
 "cells": [
  {
   "cell_type": "code",
   "execution_count": 1,
   "metadata": {},
   "outputs": [],
   "source": [
    "import cv2\n",
    "import numpy as np"
   ]
  },
  {
   "cell_type": "code",
   "execution_count": 39,
   "metadata": {},
   "outputs": [],
   "source": [
    "img = cv2.imread(\"images\\lena.jpg\",0)\n",
    "# cv2.imshow(\"Image\",img)\n",
    "\n",
    "# new_image = cv2.Laplacian(img,cv2.CV_64F,1)\n",
    "# new_image = np.uint8(np.absolute(new_image))\n",
    "# cv2.imshow(\"New Image\", new_image)\n",
    "\n",
    "sobelx = cv2.Sobel(img,cv2.CV_64F,1,0)\n",
    "sobelx = np.uint8(np.absolute(sobelx))\n",
    "# cv2.imshow(\"SobelX\", sobelx)\n",
    "\n",
    "sobely = cv2.Sobel(img,cv2.CV_64F,0,1)\n",
    "sobely = np.uint8(np.absolute(sobely))\n",
    "# cv2.imshow(\"SobelY\", sobely)\n",
    "\n",
    "sobel_combined_add = cv2.add(sobelx,sobely)\n",
    "sobel_combined_or = cv2.bitwise_or(sobelx,sobely)\n",
    "_, sobel_threshold = cv2.threshold(img,50,250,cv2.THRESH_BINARY_INV)\n",
    "\n",
    "cv2.imshow(\"Combined ADD\",sobel_combined_add)\n",
    "cv2.imshow(\"Combined OR\",sobel_combined_or)\n",
    "cv2.imshow(\"Combined Threshold\",sobel_threshold)\n",
    "\n",
    "cv2.waitKey(0)\n",
    "cv2.destroyAllWindows()"
   ]
  },
  {
   "cell_type": "code",
   "execution_count": 42,
   "metadata": {},
   "outputs": [],
   "source": [
    "img = cv2.imread(\"images\\lena.jpg\",0)\n",
    "cv2.imshow(\"Image\",img)\n",
    "\n",
    "canny = cv2.Canny(img,75,250)\n",
    "cv2.imshow(\"Canny\",canny)\n",
    "\n",
    "cv2.waitKey(0)\n",
    "cv2.destroyAllWindows()"
   ]
  },
  {
   "cell_type": "code",
   "execution_count": null,
   "metadata": {},
   "outputs": [],
   "source": []
  }
 ],
 "metadata": {
  "kernelspec": {
   "display_name": "Python 3",
   "language": "python",
   "name": "python3"
  },
  "language_info": {
   "codemirror_mode": {
    "name": "ipython",
    "version": 3
   },
   "file_extension": ".py",
   "mimetype": "text/x-python",
   "name": "python",
   "nbconvert_exporter": "python",
   "pygments_lexer": "ipython3",
   "version": "3.10.4"
  }
 },
 "nbformat": 4,
 "nbformat_minor": 2
}
