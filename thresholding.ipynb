{
 "cells": [
  {
   "cell_type": "code",
   "execution_count": 2,
   "metadata": {},
   "outputs": [],
   "source": [
    "import cv2\n",
    "import numpy as np"
   ]
  },
  {
   "cell_type": "code",
   "execution_count": 27,
   "metadata": {},
   "outputs": [],
   "source": [
    "# img = cv2.imread(\"images/gradient.png\")\n",
    "img = cv2.imread(\"images\\lena.jpg\")\n",
    "img = cv2.cvtColor(img,cv2.COLOR_BGR2GRAY)\n",
    "\n",
    "# print(img.shape)\n",
    "\n",
    "# _,img1 = cv2.threshold(img,120,255,cv2.THRESH_BINARY)\n",
    "# _,img1 = cv2.threshold(img,150,255,cv2.THRESH_BINARY_INV)\n",
    "# _,img1 = cv2.threshold(img,150,255,cv2.THRESH_TRUNC)\n",
    "# _,img1 = cv2.threshold(img,100,255,cv2.THRESH_TOZERO)\n",
    "_,img1 = cv2.threshold(img,200,255,cv2.THRESH_TOZERO_INV)\n",
    "\n",
    "cv2.imshow(\"Image\",img)\n",
    "cv2.imshow(\"Threshold\",img1)\n",
    "\n",
    "cv2.waitKey(0)\n",
    "cv2.destroyAllWindows()"
   ]
  },
  {
   "cell_type": "code",
   "execution_count": 3,
   "metadata": {},
   "outputs": [],
   "source": [
    "img = cv2.imread(\"images\\lena.jpg\")\n",
    "img = cv2.cvtColor(img,cv2.COLOR_BGR2GRAY)\n",
    "cv2.namedWindow(\"Image\")\n",
    "\n",
    "def change(x):\n",
    "    pass\n",
    "\n",
    "cv2.createTrackbar(\"threshold\",\"Image\",0,255,change)\n",
    "\n",
    "while(1):\n",
    "    cv2.imshow(\"Image\",img)\n",
    "\n",
    "    threshold = cv2.getTrackbarPos(\"threshold\",\"Image\")\n",
    "    _,img1 = cv2.threshold(img,threshold,255,cv2.THRESH_TOZERO)\n",
    "\n",
    "    cv2.imshow(\"NewImage\",img1)\n",
    "\n",
    "    btn_click = cv2.waitKey(1) & 0xFF\n",
    "    if btn_click == 27:\n",
    "        break\n",
    "\n",
    "cv2.destroyAllWindows()"
   ]
  },
  {
   "cell_type": "code",
   "execution_count": 2,
   "metadata": {},
   "outputs": [],
   "source": [
    "img = cv2.imread(\"images\\lena.jpg\")\n",
    "img = cv2.cvtColor(img,cv2.COLOR_BGR2GRAY)\n",
    "\n",
    "cv2.imshow(\"Image\",img)\n",
    "\n",
    "img1 = cv2.adaptiveThreshold(img,255,cv2.ADAPTIVE_THRESH_MEAN_C,cv2.THRESH_BINARY,11,6)\n",
    "cv2.imshow(\"NewImage\",img1)\n",
    "\n",
    "cv2.waitKey(0)\n",
    "cv2.destroyAllWindows()"
   ]
  },
  {
   "cell_type": "code",
   "execution_count": 5,
   "metadata": {},
   "outputs": [],
   "source": [
    "img = cv2.imread(\"images\\smarties.png\")\n",
    "img = cv2.cvtColor(img,cv2.COLOR_BGR2GRAY)\n",
    "cv2.namedWindow(\"Image\")\n",
    "\n",
    "def change(x):\n",
    "    pass\n",
    "\n",
    "cv2.createTrackbar(\"constant\",\"Image\",0,255,change)\n",
    "\n",
    "while(1):\n",
    "    cv2.imshow(\"Image\",img)\n",
    "\n",
    "    constant = cv2.getTrackbarPos(\"constant\",\"Image\")\n",
    "\n",
    "    img1 = cv2.adaptiveThreshold(img,255,cv2.ADAPTIVE_THRESH_MEAN_C,cv2.THRESH_BINARY,11,constant)\n",
    "    img2 = cv2.adaptiveThreshold(img,255,cv2.ADAPTIVE_THRESH_GAUSSIAN_C,cv2.THRESH_BINARY,11,constant)\n",
    "\n",
    "    cv2.imshow(\"MeanImage\",img1)\n",
    "    cv2.imshow(\"GaussianImage\",img2)\n",
    "\n",
    "    btn_click = cv2.waitKey(1) & 0xFF\n",
    "    if btn_click == 27:\n",
    "        break\n",
    "\n",
    "cv2.destroyAllWindows()"
   ]
  },
  {
   "cell_type": "code",
   "execution_count": 12,
   "metadata": {},
   "outputs": [],
   "source": [
    "img = cv2.imread(\"images\\lena.jpg\")\n",
    "cv2.imshow(\"Image\",img)\n",
    "\n",
    "(blue,green,red) = cv2.split(img)\n",
    "\n",
    "img_blue = cv2.adaptiveThreshold(blue,255,cv2.ADAPTIVE_THRESH_MEAN_C,cv2.THRESH_BINARY,11,6)\n",
    "img_green = cv2.adaptiveThreshold(green,255,cv2.ADAPTIVE_THRESH_MEAN_C,cv2.THRESH_BINARY,11,6)\n",
    "img_red = cv2.adaptiveThreshold(red,255,cv2.ADAPTIVE_THRESH_MEAN_C,cv2.THRESH_BINARY,11,6)\n",
    "\n",
    "new_image = cv2.merge((blue,green,img_red))\n",
    "cv2.imshow(\"NewImage\",new_image)\n",
    "\n",
    "cv2.waitKey(0)\n",
    "cv2.destroyAllWindows()\n"
   ]
  },
  {
   "cell_type": "code",
   "execution_count": null,
   "metadata": {},
   "outputs": [],
   "source": []
  },
  {
   "cell_type": "code",
   "execution_count": null,
   "metadata": {},
   "outputs": [],
   "source": []
  }
 ],
 "metadata": {
  "kernelspec": {
   "display_name": "Python 3",
   "language": "python",
   "name": "python3"
  },
  "language_info": {
   "codemirror_mode": {
    "name": "ipython",
    "version": 3
   },
   "file_extension": ".py",
   "mimetype": "text/x-python",
   "name": "python",
   "nbconvert_exporter": "python",
   "pygments_lexer": "ipython3",
   "version": "3.10.4"
  }
 },
 "nbformat": 4,
 "nbformat_minor": 2
}
