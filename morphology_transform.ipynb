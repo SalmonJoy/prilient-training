{
 "cells": [
  {
   "cell_type": "code",
   "execution_count": 1,
   "metadata": {},
   "outputs": [],
   "source": [
    "import cv2\n",
    "import numpy as np"
   ]
  },
  {
   "cell_type": "code",
   "execution_count": 4,
   "metadata": {},
   "outputs": [],
   "source": [
    "img = cv2.imread(\"images\\smarties.png\")\n",
    "img = cv2.cvtColor(img,cv2.COLOR_BGR2GRAY)\n",
    "# cv2.imshow(\"Image\",img)\n",
    "\n",
    "_,mask = cv2.threshold(img,240,255,cv2.THRESH_BINARY_INV)\n",
    "\n",
    "kernel = np.ones((10,10),np.uint8)\n",
    "# dilation = cv2.dilate(mask,kernel,iterations=2)\n",
    "# erode = cv2.erode(dilation,kernel,iterations=2)\n",
    "\n",
    "opening = cv2.morphologyEx(mask,cv2.MORPH_OPEN,kernel)\n",
    "closing = cv2.morphologyEx(mask,cv2.MORPH_CLOSE,kernel)\n",
    "gradient = cv2.morphologyEx(mask,cv2.MORPH_GRADIENT,kernel)\n",
    "\n",
    "# cv2.imshow(\"Mask\",mask)\n",
    "# cv2.imshow(\"Dilation\",dilation)\n",
    "# cv2.imshow(\"Erode\",erode)\n",
    "cv2.imshow(\"Opening\",opening)\n",
    "cv2.imshow(\"Closing\",closing)\n",
    "cv2.imshow(\"Gradient\",gradient)\n",
    "\n",
    "cv2.waitKey(0)\n",
    "cv2.destroyAllWindows()"
   ]
  },
  {
   "cell_type": "code",
   "execution_count": null,
   "metadata": {},
   "outputs": [],
   "source": []
  }
 ],
 "metadata": {
  "kernelspec": {
   "display_name": "Python 3",
   "language": "python",
   "name": "python3"
  },
  "language_info": {
   "codemirror_mode": {
    "name": "ipython",
    "version": 3
   },
   "file_extension": ".py",
   "mimetype": "text/x-python",
   "name": "python",
   "nbconvert_exporter": "python",
   "pygments_lexer": "ipython3",
   "version": "3.10.4"
  }
 },
 "nbformat": 4,
 "nbformat_minor": 2
}
