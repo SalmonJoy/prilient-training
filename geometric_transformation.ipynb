{
 "cells": [
  {
   "cell_type": "code",
   "execution_count": 1,
   "metadata": {},
   "outputs": [],
   "source": [
    "import cv2\n",
    "import numpy as np"
   ]
  },
  {
   "cell_type": "code",
   "execution_count": 5,
   "metadata": {},
   "outputs": [],
   "source": [
    "img = cv2.imread(\"images\\messi5.jpg\")\n",
    "img = cv2.cvtColor(img,cv2.COLOR_BGR2GRAY)\n",
    "row,col = img.shape\n",
    "cv2.imshow(\"Image\",img)\n",
    "\n",
    "rotate = cv2.getRotationMatrix2D(((col//2),(row)//2),90,1)\n",
    "newImage = cv2.warpAffine(img,rotate,(col,row))\n",
    "# print(rotate.shape)\n",
    "\n",
    "cv2.imshow(\"Rotateed_Image\",newImage)\n",
    "\n",
    "\n",
    "\n",
    "cv2.waitKey(0)\n",
    "cv2.destroyAllWindows()"
   ]
  },
  {
   "cell_type": "code",
   "execution_count": 2,
   "metadata": {},
   "outputs": [],
   "source": [
    "img = cv2.imread(\"images\\sudoku.png\")\n",
    "img = cv2.cvtColor(img,cv2.COLOR_BGR2GRAY)\n",
    "rows,cols = img.shape\n",
    "cv2.imshow(\"Image\",img)\n",
    "\n",
    "point1 = np.float32([[50,50],[200,50],[50,200],[200,200]])\n",
    "point2 = np.float32([[10,100],[200,50],[100,250],[200,200]])\n",
    "\n",
    "M = cv2.getPerspectiveTransform(point1,point2)\n",
    "newImage = cv2.warpPerspective(img,M,(cols,rows))\n",
    "\n",
    "cv2.imshow(\"Rotateed_Image\",newImage)\n",
    "\n",
    "cv2.waitKey(0)\n",
    "cv2.destroyAllWindows()"
   ]
  },
  {
   "cell_type": "code",
   "execution_count": null,
   "metadata": {},
   "outputs": [],
   "source": []
  }
 ],
 "metadata": {
  "kernelspec": {
   "display_name": "Python 3",
   "language": "python",
   "name": "python3"
  },
  "language_info": {
   "codemirror_mode": {
    "name": "ipython",
    "version": 3
   },
   "file_extension": ".py",
   "mimetype": "text/x-python",
   "name": "python",
   "nbconvert_exporter": "python",
   "pygments_lexer": "ipython3",
   "version": "3.10.4"
  }
 },
 "nbformat": 4,
 "nbformat_minor": 2
}
