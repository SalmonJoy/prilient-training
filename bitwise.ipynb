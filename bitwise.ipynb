{
 "cells": [
  {
   "cell_type": "code",
   "execution_count": 2,
   "metadata": {},
   "outputs": [],
   "source": [
    "import cv2\n",
    "import numpy as np"
   ]
  },
  {
   "cell_type": "code",
   "execution_count": 24,
   "metadata": {},
   "outputs": [],
   "source": [
    "img1 = np.zeros((200,200,3),dtype=np.uint8)\n",
    "cv2.rectangle(img1,(0,0),(100,200),(255,255,255),-1)\n",
    "cv2.imshow(\"Image1\",img1)\n",
    "\n",
    "img2 = np.zeros((200,200,3),dtype=np.uint8)\n",
    "cv2.rectangle(img2,(0,0),(200,100),(255,255,255),-1)\n",
    "cv2.imshow(\"Image2\",img2)\n",
    "\n",
    "# img_not_1 = cv2.bitwise_not(img1)\n",
    "# cv2.imshow(\"Not_Image_1\",img_not_1)\n",
    "\n",
    "# img_not_2 = cv2.bitwise_not(img2)\n",
    "# cv2.imshow(\"Not_Image_2\",img_not_2)\n",
    "\n",
    "# img_and = cv2.bitwise_and(img1,img2)\n",
    "# cv2.imshow(\"And_img\",img_and)\n",
    "\n",
    "img_or = cv2.bitwise_not(cv2.bitwise_or(img1,img2))\n",
    "cv2.imshow(\"Or_img\",img_or)\n",
    "\n",
    "# img_xor = cv2.bitwise_xor(img1,img2)\n",
    "# cv2.imshow(\"Xor_img\",img_xor)\n",
    "\n",
    "cv2.waitKey(0)\n",
    "cv2.destroyAllWindows()"
   ]
  },
  {
   "cell_type": "code",
   "execution_count": 5,
   "metadata": {},
   "outputs": [],
   "source": [
    "digit1 = cv2.imread(\"images\\digit3_1.png\")\n",
    "digit1 = cv2.resize(digit1,(200,200))\n",
    "cv2.imshow(\"Digit1\",digit1)\n",
    "\n",
    "digit2 = cv2.imread(\"images\\digit3_2.png\")\n",
    "digit2 = cv2.bitwise_not(cv2.resize(digit2,(200,200)))\n",
    "cv2.imshow(\"Digit2\",digit2)\n",
    "\n",
    "cv2.waitKey(0)\n",
    "cv2.destroyAllWindows()"
   ]
  },
  {
   "cell_type": "code",
   "execution_count": null,
   "metadata": {},
   "outputs": [],
   "source": []
  },
  {
   "cell_type": "code",
   "execution_count": null,
   "metadata": {},
   "outputs": [],
   "source": []
  }
 ],
 "metadata": {
  "kernelspec": {
   "display_name": "Python 3",
   "language": "python",
   "name": "python3"
  },
  "language_info": {
   "codemirror_mode": {
    "name": "ipython",
    "version": 3
   },
   "file_extension": ".py",
   "mimetype": "text/x-python",
   "name": "python",
   "nbconvert_exporter": "python",
   "pygments_lexer": "ipython3",
   "version": "3.10.4"
  }
 },
 "nbformat": 4,
 "nbformat_minor": 2
}
