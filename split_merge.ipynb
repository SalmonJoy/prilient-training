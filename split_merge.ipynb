{
 "cells": [
  {
   "cell_type": "code",
   "execution_count": 1,
   "metadata": {},
   "outputs": [],
   "source": [
    "import cv2\n",
    "import numpy as np"
   ]
  },
  {
   "cell_type": "code",
   "execution_count": 15,
   "metadata": {},
   "outputs": [],
   "source": [
    "img = cv2.imread(\"images\\messi5.jpg\")\n",
    "\n",
    "\n",
    "(blue,green,red)= cv2.split(img)\n",
    "green[:]=200\n",
    "cv2.imshow(\"Image_blue\",blue)\n",
    "cv2.imshow(\"Image_green\",green)\n",
    "cv2.imshow(\"Image_red\",red)\n",
    "\n",
    "merged_image = cv2.merge((blue,green,red))\n",
    "cv2.imshow(\"Merged_image\",merged_image)\n",
    "\n",
    "cv2.waitKey(0)\n",
    "cv2.destroyAllWindows()"
   ]
  },
  {
   "cell_type": "code",
   "execution_count": 31,
   "metadata": {},
   "outputs": [],
   "source": [
    "img = cv2.imread(\"images\\messi5.jpg\")\n",
    "cv2.imshow(\"Image\",img)\n",
    "\n",
    "def handleEvent(event,x,y,flags,params):\n",
    "    if event == cv2.EVENT_MOUSEMOVE:\n",
    "        (blue,green,red)= cv2.split(img)\n",
    "        green[:] = int((x+1)*255/img.shape[1])\n",
    "        red[:] = int((y+1)*255/img.shape[0])\n",
    "        merged_image = cv2.merge((blue,green,red))\n",
    "        cv2.imshow(\"Merged_image\",merged_image)\n",
    "\n",
    "\n",
    "cv2.setMouseCallback(\"Image\",handleEvent)\n",
    "cv2.waitKey(0)\n",
    "cv2.destroyAllWindows()"
   ]
  },
  {
   "cell_type": "code",
   "execution_count": null,
   "metadata": {},
   "outputs": [],
   "source": []
  }
 ],
 "metadata": {
  "kernelspec": {
   "display_name": "Python 3",
   "language": "python",
   "name": "python3"
  },
  "language_info": {
   "codemirror_mode": {
    "name": "ipython",
    "version": 3
   },
   "file_extension": ".py",
   "mimetype": "text/x-python",
   "name": "python",
   "nbconvert_exporter": "python",
   "pygments_lexer": "ipython3",
   "version": "3.10.4"
  }
 },
 "nbformat": 4,
 "nbformat_minor": 2
}
