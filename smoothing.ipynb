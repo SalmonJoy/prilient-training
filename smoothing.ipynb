{
 "cells": [
  {
   "cell_type": "code",
   "execution_count": 1,
   "metadata": {},
   "outputs": [],
   "source": [
    "import cv2\n",
    "import numpy as np"
   ]
  },
  {
   "cell_type": "code",
   "execution_count": 21,
   "metadata": {},
   "outputs": [],
   "source": [
    "img = cv2.imread(\"images\\lena.jpg\")\n",
    "cv2.imshow(\"Image\",img)\n",
    "s = 21\n",
    "kernel = np.ones((s,s),np.float32)/(s*s)\n",
    "\n",
    "filter2D = cv2.filter2D(img,-1,kernel)\n",
    "blur = cv2.blur(img,(21,21))\n",
    "g_blur = cv2.GaussianBlur(img,(21,21),0)\n",
    "median = cv2.medianBlur(img,21)\n",
    "bilateral = cv2.bilateralFilter(img,21,150,50)\n",
    "\n",
    "cv2.imshow(\"filter2D\",filter2D)\n",
    "cv2.imshow(\"Blur\",blur)\n",
    "cv2.imshow(\"Gaussian\",g_blur)\n",
    "cv2.imshow(\"Median\",median)\n",
    "cv2.imshow(\"Bilateral\",bilateral)\n",
    "\n",
    "cv2.waitKey(0)\n",
    "cv2.destroyAllWindows()"
   ]
  },
  {
   "cell_type": "code",
   "execution_count": 16,
   "metadata": {},
   "outputs": [],
   "source": [
    "img = cv2.imread(\"images\\lena.jpg\")\n",
    "cv2.namedWindow(\"Image\")\n",
    "cv2.imshow(\"Image\",img)\n",
    "\n",
    "def change(x):\n",
    "    pass\n",
    "\n",
    "cv2.createTrackbar(\"smooth\",\"Image\",2,50,change)\n",
    "\n",
    "while(1):\n",
    "    s = cv2.getTrackbarPos(\"smooth\",\"Image\")\n",
    "    kernel = np.ones((s,s),np.float32)/(s*s)\n",
    "    smooth_image = cv2.filter2D(img,-1,kernel)\n",
    "    cv2.imshow(\"Image\",smooth_image)\n",
    "\n",
    "    btn_click = cv2.waitKey(1) & 0xFF\n",
    "    if btn_click == 27:\n",
    "        break\n",
    "\n",
    "cv2.destroyAllWindows()"
   ]
  },
  {
   "cell_type": "code",
   "execution_count": null,
   "metadata": {},
   "outputs": [],
   "source": []
  }
 ],
 "metadata": {
  "kernelspec": {
   "display_name": "Python 3",
   "language": "python",
   "name": "python3"
  },
  "language_info": {
   "codemirror_mode": {
    "name": "ipython",
    "version": 3
   },
   "file_extension": ".py",
   "mimetype": "text/x-python",
   "name": "python",
   "nbconvert_exporter": "python",
   "pygments_lexer": "ipython3",
   "version": "3.10.4"
  }
 },
 "nbformat": 4,
 "nbformat_minor": 2
}
